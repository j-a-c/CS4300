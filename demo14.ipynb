{
 "metadata": {
  "name": "",
  "signature": "sha256:4562b37a1067ee05702ebfa7bc13175dd0b344b5e774ff0d4672f9c6bfe64dfb"
 },
 "nbformat": 3,
 "nbformat_minor": 0,
 "worksheets": [
  {
   "cells": [
    {
     "cell_type": "markdown",
     "metadata": {},
     "source": [
      "# Info/CS 4300: Language and Information - in-class demo\n",
      "\n",
      "#Lecture 14\n",
      "\n",
      "## Looking closer at text classification: \n",
      "## Adding conversational features"
     ]
    },
    {
     "cell_type": "code",
     "collapsed": false,
     "input": [
      "from __future__ import print_function\n",
      "import json\n",
      "import numpy as np\n",
      "\n",
      "from sklearn.cross_validation import ShuffleSplit\n",
      "from sklearn.feature_extraction.text import CountVectorizer\n",
      "\n",
      "from sklearn.naive_bayes import MultinomialNB\n",
      "from sklearn.naive_bayes import BernoulliNB\n",
      "from sklearn.svm import LinearSVC\n",
      "\n",
      "\n",
      "from sklearn.metrics import classification_report, confusion_matrix\n",
      "\n",
      "from scipy import sparse as sp "
     ],
     "language": "python",
     "metadata": {},
     "outputs": [],
     "prompt_number": 1
    },
    {
     "cell_type": "code",
     "collapsed": false,
     "input": [
      "EXTRA=False # set to True to activate the extra feature (length in our case, but could be easily changed)"
     ],
     "language": "python",
     "metadata": {},
     "outputs": [],
     "prompt_number": 43
    },
    {
     "cell_type": "markdown",
     "metadata": {},
     "source": [
      "## Load the data"
     ]
    },
    {
     "cell_type": "code",
     "collapsed": false,
     "input": [
      "with open(\"kardashian-transcripts.json\", \"rb\") as f:\n",
      "    transcripts = json.load(f)"
     ],
     "language": "python",
     "metadata": {},
     "outputs": [],
     "prompt_number": 44
    },
    {
     "cell_type": "code",
     "collapsed": false,
     "input": [
      "transcripts[1][1]"
     ],
     "language": "python",
     "metadata": {},
     "outputs": [
      {
       "metadata": {},
       "output_type": "pyout",
       "prompt_number": 45,
       "text": [
        "{u'episode_title': u'Keeping Up With the Kardashians - Shape Up or Ship Out',\n",
        " u'speaker': u'KHLOE',\n",
        " u'text': u'I mean, I want him to feel like a man.',\n",
        " u'timestamp': u'00:00:46',\n",
        " u'toks': [u'i',\n",
        "  u'mean',\n",
        "  u',',\n",
        "  u'i',\n",
        "  u'want',\n",
        "  u'him',\n",
        "  u'to',\n",
        "  u'feel',\n",
        "  u'like',\n",
        "  u'a',\n",
        "  u'man',\n",
        "  u'.'],\n",
        " u'transcript_id': u'kardashians/153950'}"
       ]
      }
     ],
     "prompt_number": 45
    },
    {
     "cell_type": "code",
     "collapsed": false,
     "input": [
      "kris_msgs = [m['text'] for transcript in transcripts for m in transcript\n",
      "             if m['speaker'] == 'KRIS']\n",
      "\n",
      "## who is the previous speaker\n",
      "kris_prev = [(\"to_\"+transcript[k-1]['speaker'] if k>0 else \"_T\") \n",
      "             for transcript in transcripts for k,m in enumerate(transcript)\n",
      "             if m['speaker']=='KRIS'] \n",
      "\n",
      "\n",
      "\n",
      "\n",
      "bruce_msgs = [m['text'] for transcript in transcripts for m in transcript\n",
      "              if m['speaker'] == 'BRUCE']\n",
      "\n",
      "bruce_prev = [(\"to_\"+transcript[k-1]['speaker'] if k>0 else \"_T\") \n",
      "             for transcript in transcripts for k,m in enumerate(transcript)\n",
      "             if m['speaker']=='BRUCE'] \n",
      "\n",
      "bruce_prev[:10]\n",
      "\n",
      "\n",
      "## we need to (a) merge multiple lines from the same person (data representation issue)\n",
      "## and (b) treat both KRIS and BRUCE as unknown labels when they appear as previous speakers\n",
      "kris_prev2 =[]\n",
      "for m in kris_prev:\n",
      "    if m==\"to_KRIS\" or m==\"to_BRUCE\":\n",
      "        kris_prev2.append(\"_M\")\n",
      "    else:\n",
      "        kris_prev2.append(m)\n",
      "\n",
      "kris_prev = kris_prev2\n",
      "\n",
      "bruce_prev2 =[]\n",
      "for m in bruce_prev:\n",
      "    if m==\"to_KRIS\" or m==\"to_BRUCE\":\n",
      "        bruce_prev2.append(\"_M\")\n",
      "    else:\n",
      "        bruce_prev2.append(m)\n",
      "\n",
      "bruce_prev = bruce_prev2\n",
      "\n"
     ],
     "language": "python",
     "metadata": {},
     "outputs": [],
     "prompt_number": 46
    },
    {
     "cell_type": "code",
     "collapsed": false,
     "input": [
      "kris_msgs = [target+\" \"+m for target,m in zip(kris_prev,kris_msgs)]\n",
      "bruce_msgs = [target+\" \"+m for target,m in zip(bruce_prev,bruce_msgs)]\n",
      "\n",
      "kris_classes = ['Kris' for _ in kris_msgs]\n",
      "\n",
      "\n",
      "bruce_classes = ['Bruce' for _ in bruce_msgs]\n",
      "\n",
      "\n",
      "msgs = kris_msgs + bruce_msgs\n",
      "msgs = np.array(msgs)\n",
      "\n",
      "classes = kris_classes + bruce_classes\n",
      "classes = np.array(classes)\n",
      "\n",
      "kris_msgs[:10]"
     ],
     "language": "python",
     "metadata": {},
     "outputs": [
      {
       "metadata": {},
       "output_type": "pyout",
       "prompt_number": 47,
       "text": [
        "[u'to_KIM Like last week.',\n",
        " u'to_KIM I have one gray hair, and in order for her make it all blend, she has to do the whole head.',\n",
        " u'_M Right, K?',\n",
        " u'to_KENDALL Right.',\n",
        " u'_M Will you guys look at this new dress I have in my closet?',\n",
        " u\"to_KHLOE I'm asking you to approve.\",\n",
        " u'_M I have 24 hours, okay?',\n",
        " u\"_M It's right over there.\",\n",
        " u'_M Look at the dress.',\n",
        " u'to_KHLOE Yep.']"
       ]
      }
     ],
     "prompt_number": 47
    },
    {
     "cell_type": "code",
     "collapsed": false,
     "input": [
      "## This is how zip works\n",
      "zip([1,2,3],[\"a\",\"b\",\"c\"])"
     ],
     "language": "python",
     "metadata": {},
     "outputs": [
      {
       "metadata": {},
       "output_type": "pyout",
       "prompt_number": 48,
       "text": [
        "[(1, 'a'), (2, 'b'), (3, 'c')]"
       ]
      }
     ],
     "prompt_number": 48
    },
    {
     "cell_type": "markdown",
     "metadata": {},
     "source": [
      "## Leave out a test set"
     ]
    },
    {
     "cell_type": "code",
     "collapsed": false,
     "input": [
      "nr_mesages=len(msgs)\n",
      "\n",
      "shuffle_split = ShuffleSplit(nr_mesages, test_size=0.5, random_state=0)"
     ],
     "language": "python",
     "metadata": {},
     "outputs": [],
     "prompt_number": 49
    },
    {
     "cell_type": "code",
     "collapsed": false,
     "input": [
      "train_idx, test_idx = next(iter(shuffle_split))  #iterator\n",
      "\n",
      "train_idx[:10]"
     ],
     "language": "python",
     "metadata": {},
     "outputs": [
      {
       "metadata": {},
       "output_type": "pyout",
       "prompt_number": 50,
       "text": [
        "array([5815, 8522, 8344, 4095, 5408, 5757, 3221, 4114, 8621, 8788])"
       ]
      }
     ],
     "prompt_number": 50
    },
    {
     "cell_type": "code",
     "collapsed": false,
     "input": [
      "msgs_train = msgs[train_idx]\n",
      "msgs_test =  msgs[test_idx]\n",
      "\n",
      "classes_train = classes[train_idx]\n",
      "classes_test = classes[test_idx]"
     ],
     "language": "python",
     "metadata": {},
     "outputs": [],
     "prompt_number": 51
    },
    {
     "cell_type": "markdown",
     "metadata": {},
     "source": [
      "## Majority baseline"
     ]
    },
    {
     "cell_type": "markdown",
     "metadata": {},
     "source": [
      "First, let's see how well we can do without looking at the features at all.  We will learn the majority class from the train set and always predict that"
     ]
    },
    {
     "cell_type": "code",
     "collapsed": false,
     "input": [
      "n_kris=len([1 for c in classes_train if c == \"Kris\"])\n",
      "n_bruce=len([1 for c in classes_train if c == \"Bruce\"])\n",
      "\n",
      "\n",
      "print(\"number of messages in Kris class:\",n_kris)\n",
      "print(\"number of messages in Bruce class:\",n_bruce)\n",
      "\n",
      "if n_kris>n_bruce:\n",
      "    print(\"Majority class is Kris\")\n",
      "    majority_class=\"Kris\"\n",
      "else:\n",
      "    print(\"Majority class is Bruce\")\n",
      "    majority_class=\"Bruce\"\n",
      "\n",
      "\n",
      "n_train = len(classes_train)\n",
      "\n",
      "##always predict majority class\n",
      "majority_classes_test= [majority_class for _ in msgs_test]\n",
      "\n",
      "print(\"Majority baseline accuracy: {:.2f}%\".format(np.mean(majority_classes_test == classes_test) * 100))"
     ],
     "language": "python",
     "metadata": {},
     "outputs": [
      {
       "output_type": "stream",
       "stream": "stdout",
       "text": [
        "number of messages in Kris class: 2847\n",
        "number of messages in Bruce class: 2078\n",
        "Majority class is Kris\n",
        "Majority baseline accuracy: 56.83%\n"
       ]
      }
     ],
     "prompt_number": 52
    },
    {
     "cell_type": "markdown",
     "metadata": {},
     "source": [
      "## Getting features (term-doc matrix)"
     ]
    },
    {
     "cell_type": "code",
     "collapsed": false,
     "input": [
      "## getting term-doc matrix\n",
      "vectorizer = CountVectorizer(ngram_range=(1, 2))  # for  unigrams only use ngram_range=(1, 1)\n",
      "vectorizer.fit(msgs_train)\n",
      "\n",
      "terms = vectorizer.get_feature_names()\n",
      "terms[-10:]\n"
     ],
     "language": "python",
     "metadata": {},
     "outputs": [
      {
       "metadata": {},
       "output_type": "pyout",
       "prompt_number": 53,
       "text": [
        "[u'yourself out',\n",
        " u'yourselves',\n",
        " u'yourselves single',\n",
        " u'youto',\n",
        " u'youto make',\n",
        " u'yum',\n",
        " u'zack',\n",
        " u'zack you',\n",
        " u'zito',\n",
        " u'zito rico']"
       ]
      }
     ],
     "prompt_number": 53
    },
    {
     "cell_type": "code",
     "collapsed": false,
     "input": [
      "\n",
      "term_document_matrix_train = vectorizer.transform(msgs_train)\n",
      "term_document_matrix_train"
     ],
     "language": "python",
     "metadata": {},
     "outputs": [
      {
       "metadata": {},
       "output_type": "pyout",
       "prompt_number": 35,
       "text": [
        "<4925x17046 sparse matrix of type '<type 'numpy.int64'>'\n",
        "\twith 67387 stored elements in Compressed Sparse Row format>"
       ]
      }
     ],
     "prompt_number": 35
    },
    {
     "cell_type": "code",
     "collapsed": false,
     "input": [
      "print(confusion_matrix(classes_test, majority_classes_test))  "
     ],
     "language": "python",
     "metadata": {},
     "outputs": [
      {
       "output_type": "stream",
       "stream": "stdout",
       "text": [
        "[[   0 2126]\n",
        " [   0 2799]]\n"
       ]
      }
     ],
     "prompt_number": 36
    },
    {
     "cell_type": "markdown",
     "metadata": {},
     "source": [
      "Add extra features, such as length in characters"
     ]
    },
    {
     "cell_type": "code",
     "collapsed": false,
     "input": [
      "def extra_feature(d):\n",
      "    return len(d)\n",
      "\n",
      "\n",
      "if EXTRA:\n",
      "    extra_train = [extra_feature(d) for d in msgs_train]\n",
      "    extra_train = np.atleast_2d(extra_train)\n",
      "    extra_train =extra_train.T\n",
      "    extra_train"
     ],
     "language": "python",
     "metadata": {},
     "outputs": [],
     "prompt_number": 37
    },
    {
     "cell_type": "code",
     "collapsed": false,
     "input": [
      "if EXTRA:\n",
      "    ## merging the extra feature vector with the old feature matrix\n",
      "    term_document_matrix_train =  sp.hstack([extra_train,term_document_matrix_train])"
     ],
     "language": "python",
     "metadata": {},
     "outputs": [],
     "prompt_number": 38
    },
    {
     "cell_type": "markdown",
     "metadata": {},
     "source": [
      "## Building a classifier"
     ]
    },
    {
     "cell_type": "code",
     "collapsed": false,
     "input": [
      "#classifier=MultinomialNB()\n",
      "classifier=LinearSVC()\n",
      "\n",
      "classifier.fit(term_document_matrix_train,classes_train)"
     ],
     "language": "python",
     "metadata": {},
     "outputs": [
      {
       "metadata": {},
       "output_type": "pyout",
       "prompt_number": 39,
       "text": [
        "LinearSVC(C=1.0, class_weight=None, dual=True, fit_intercept=True,\n",
        "     intercept_scaling=1, loss='l2', multi_class='ovr', penalty='l2',\n",
        "     random_state=None, tol=0.0001, verbose=0)"
       ]
      }
     ],
     "prompt_number": 39
    },
    {
     "cell_type": "markdown",
     "metadata": {},
     "source": [
      "## Evaluate"
     ]
    },
    {
     "cell_type": "code",
     "collapsed": false,
     "input": [
      "term_document_matrix_test = vectorizer.transform(msgs_test)\n",
      "\n",
      "if EXTRA:\n",
      "    extra_test = [extra_feature(d) for d in msgs_test]\n",
      "    extra_test = np.atleast_2d(extra_test)\n",
      "    extra_test =extra_test.T\n",
      "\n",
      "    term_document_matrix_test =  sp.hstack([extra_test,term_document_matrix_test])\n",
      "\n",
      "predicted_classes_test = classifier.predict(term_document_matrix_test)"
     ],
     "language": "python",
     "metadata": {},
     "outputs": [],
     "prompt_number": 40
    },
    {
     "cell_type": "code",
     "collapsed": false,
     "input": [
      "predicted_classes_train = classifier.predict(term_document_matrix_train)\n",
      "print(\"Accuracy on train: {:.2f}%\".format(np.mean(predicted_classes_train == classes_train) * 100))"
     ],
     "language": "python",
     "metadata": {},
     "outputs": [
      {
       "output_type": "stream",
       "stream": "stdout",
       "text": [
        "Accuracy on train: 97.83%\n"
       ]
      }
     ],
     "prompt_number": 41
    },
    {
     "cell_type": "code",
     "collapsed": false,
     "input": [
      "print(\"Accuracy on test: {:.2f}%\".format(np.mean(predicted_classes_test == classes_test) * 100))"
     ],
     "language": "python",
     "metadata": {},
     "outputs": [
      {
       "output_type": "stream",
       "stream": "stdout",
       "text": [
        "Accuracy on test: 73.30%\n"
       ]
      }
     ],
     "prompt_number": 42
    },
    {
     "cell_type": "code",
     "collapsed": false,
     "input": [
      "classifier.classes_  #checking the order of the classes (for the confusion matrix)"
     ],
     "language": "python",
     "metadata": {},
     "outputs": [
      {
       "metadata": {},
       "output_type": "pyout",
       "prompt_number": 21,
       "text": [
        "array(['Bruce', 'Kris'], \n",
        "      dtype='|S5')"
       ]
      }
     ],
     "prompt_number": 21
    },
    {
     "cell_type": "code",
     "collapsed": false,
     "input": [
      "print(confusion_matrix(classes_test, predicted_classes_test))  "
     ],
     "language": "python",
     "metadata": {},
     "outputs": [
      {
       "output_type": "stream",
       "stream": "stdout",
       "text": [
        "[[1372  754]\n",
        " [ 562 2237]]\n"
       ]
      }
     ],
     "prompt_number": 22
    },
    {
     "cell_type": "code",
     "collapsed": false,
     "input": [
      "print(classification_report(classes_test, predicted_classes_test))"
     ],
     "language": "python",
     "metadata": {},
     "outputs": [
      {
       "output_type": "stream",
       "stream": "stdout",
       "text": [
        "             precision    recall  f1-score   support\n",
        "\n",
        "      Bruce       0.71      0.65      0.68      2126\n",
        "       Kris       0.75      0.80      0.77      2799\n",
        "\n",
        "avg / total       0.73      0.73      0.73      4925\n",
        "\n"
       ]
      }
     ],
     "prompt_number": 23
    }
   ],
   "metadata": {}
  }
 ]
}