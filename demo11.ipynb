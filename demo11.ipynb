{
 "metadata": {
  "name": "",
  "signature": "sha256:be97f81469f342c431f3e20b59bc4e1f611bc763fb277c9669fa6ecfff44261c"
 },
 "nbformat": 3,
 "nbformat_minor": 0,
 "worksheets": [
  {
   "cells": [
    {
     "cell_type": "markdown",
     "metadata": {},
     "source": [
      "# Info/CS 4300: Language and Information - in-class demo\n",
      "\n",
      "#Lecture 11\n",
      "## Text Classification"
     ]
    },
    {
     "cell_type": "code",
     "collapsed": false,
     "input": [
      "from __future__ import print_function\n",
      "import json\n",
      "import numpy as np\n",
      "\n",
      "from sklearn.cross_validation import ShuffleSplit\n",
      "from sklearn.feature_extraction.text import CountVectorizer\n",
      "from sklearn.naive_bayes import MultinomialNB\n",
      "from sklearn.naive_bayes import BernoulliNB\n",
      "\n",
      "\n",
      "from sklearn.metrics import classification_report, confusion_matrix"
     ],
     "language": "python",
     "metadata": {},
     "outputs": [],
     "prompt_number": 30
    },
    {
     "cell_type": "markdown",
     "metadata": {},
     "source": [
      "## Load the data"
     ]
    },
    {
     "cell_type": "code",
     "collapsed": false,
     "input": [
      "with open(\"kardashian-transcripts.json\", \"rb\") as f:\n",
      "    transcripts = json.load(f)"
     ],
     "language": "python",
     "metadata": {},
     "outputs": [],
     "prompt_number": 31
    },
    {
     "cell_type": "code",
     "collapsed": false,
     "input": [
      "kris_msgs = [m['text'] for transcript in transcripts for m in transcript\n",
      "             if m['speaker'] == 'KRIS']\n",
      "\n",
      "\n",
      "bruce_msgs = [m['text'] for transcript in transcripts for m in transcript\n",
      "              if m['speaker'] == 'BRUCE']\n",
      "\n",
      "\n"
     ],
     "language": "python",
     "metadata": {},
     "outputs": [],
     "prompt_number": 32
    },
    {
     "cell_type": "code",
     "collapsed": false,
     "input": [
      "kris_classes = ['Kris' for _ in kris_msgs]\n",
      "\n",
      "\n",
      "bruce_classes = ['Bruce' for _ in bruce_msgs]\n",
      "\n",
      "\n",
      "msgs = kris_msgs + bruce_msgs\n",
      "msgs = np.array(msgs)\n",
      "\n",
      "classes = kris_classes + bruce_classes\n",
      "classes = np.array(classes)\n"
     ],
     "language": "python",
     "metadata": {},
     "outputs": [],
     "prompt_number": 33
    },
    {
     "cell_type": "markdown",
     "metadata": {},
     "source": [
      "## Leave out a test set"
     ]
    },
    {
     "cell_type": "code",
     "collapsed": false,
     "input": [
      "nr_mesages=len(msgs)\n",
      "\n",
      "shuffle_split = ShuffleSplit(nr_mesages, test_size=0.5, random_state=0)"
     ],
     "language": "python",
     "metadata": {},
     "outputs": [],
     "prompt_number": 34
    },
    {
     "cell_type": "code",
     "collapsed": false,
     "input": [
      "train_idx, test_idx = next(iter(shuffle_split))  #iterator\n",
      "\n",
      "train_idx[:10]"
     ],
     "language": "python",
     "metadata": {},
     "outputs": [
      {
       "metadata": {},
       "output_type": "pyout",
       "prompt_number": 35,
       "text": [
        "array([5815, 8522, 8344, 4095, 5408, 5757, 3221, 4114, 8621, 8788])"
       ]
      }
     ],
     "prompt_number": 35
    },
    {
     "cell_type": "code",
     "collapsed": false,
     "input": [
      "msgs_train = msgs[train_idx]\n",
      "msgs_test =  msgs[test_idx]\n",
      "\n",
      "classes_train = classes[train_idx]\n",
      "classes_test = classes[test_idx]"
     ],
     "language": "python",
     "metadata": {},
     "outputs": [],
     "prompt_number": 36
    },
    {
     "cell_type": "markdown",
     "metadata": {},
     "source": [
      "## Majority baseline"
     ]
    },
    {
     "cell_type": "markdown",
     "metadata": {},
     "source": [
      "First, let's see how well we can do without looking at the features at all.  We will learn the majority class from the train set and always predict that"
     ]
    },
    {
     "cell_type": "code",
     "collapsed": false,
     "input": [
      "n_kris=len([1 for c in classes_train if c == \"Kris\"])\n",
      "n_bruce=len([1 for c in classes_train if c == \"Bruce\"])\n",
      "\n",
      "\n",
      "print(\"number of messages in Kris class:\",n_kris)\n",
      "print(\"number of messages in Bruce class:\",n_bruce)\n",
      "\n",
      "if n_kris>n_bruce:\n",
      "    print(\"Majority class is Kris\")\n",
      "    majority_class=\"Kris\"\n",
      "else:\n",
      "    print(\"Majority class is Bruce\")\n",
      "    majority_class=\"Bruce\"\n",
      "\n",
      "\n",
      "n_train = len(classes_train)\n",
      "\n",
      "##always predict majority class\n",
      "majority_classes_test= [majority_class for _ in msgs_test]\n",
      "\n",
      "print(\"Majority baseline accuracy: {:.2f}%\".format(np.mean(majority_classes_test == classes_test) * 100))"
     ],
     "language": "python",
     "metadata": {},
     "outputs": [
      {
       "output_type": "stream",
       "stream": "stdout",
       "text": [
        "number of messages in Kris class: 2847\n",
        "number of messages in Bruce class: 2078\n",
        "Majority class is Kris\n",
        "Majority baseline accuracy: 56.83%\n"
       ]
      }
     ],
     "prompt_number": 139
    },
    {
     "cell_type": "markdown",
     "metadata": {},
     "source": [
      "## Getting features (term-doc matrix)"
     ]
    },
    {
     "cell_type": "code",
     "collapsed": false,
     "input": [
      "## getting term-doc matrix\n",
      "vectorizer = CountVectorizer(ngram_range=(1, 2))  # for  unigrams only use ngram_range=(1, 1)\n",
      "vectorizer.fit(msgs_train)\n",
      "\n",
      "terms = vectorizer.get_feature_names()\n",
      "terms[-10:]\n"
     ],
     "language": "python",
     "metadata": {},
     "outputs": [
      {
       "metadata": {},
       "output_type": "pyout",
       "prompt_number": 158,
       "text": [
        "[u'yourself out',\n",
        " u'yourselves',\n",
        " u'yourselves single',\n",
        " u'youto',\n",
        " u'youto make',\n",
        " u'yum',\n",
        " u'zack',\n",
        " u'zack you',\n",
        " u'zito',\n",
        " u'zito rico']"
       ]
      }
     ],
     "prompt_number": 158
    },
    {
     "cell_type": "code",
     "collapsed": false,
     "input": [
      "\n",
      "term_document_matrix_train = vectorizer.transform(msgs_train)\n",
      "term_document_matrix_train"
     ],
     "language": "python",
     "metadata": {},
     "outputs": [
      {
       "metadata": {},
       "output_type": "pyout",
       "prompt_number": 159,
       "text": [
        "<4925x15630 sparse matrix of type '<type 'numpy.int64'>'\n",
        "\twith 57528 stored elements in Compressed Sparse Row format>"
       ]
      }
     ],
     "prompt_number": 159
    },
    {
     "cell_type": "code",
     "collapsed": false,
     "input": [
      "print(confusion_matrix(classes_test, majority_classes_test))  "
     ],
     "language": "python",
     "metadata": {},
     "outputs": [
      {
       "output_type": "stream",
       "stream": "stdout",
       "text": [
        "[[   0 2126]\n",
        " [   0 2799]]\n"
       ]
      }
     ],
     "prompt_number": 160
    },
    {
     "cell_type": "markdown",
     "metadata": {},
     "source": [
      "## Building a classifier"
     ]
    },
    {
     "cell_type": "code",
     "collapsed": false,
     "input": [
      "#classifier=MultinomialNB()\n",
      "classifier=BernoulliNB()\n",
      "\n",
      "classifier.fit(term_document_matrix_train,classes_train)"
     ],
     "language": "python",
     "metadata": {},
     "outputs": [
      {
       "metadata": {},
       "output_type": "pyout",
       "prompt_number": 161,
       "text": [
        "BernoulliNB(alpha=1.0, binarize=0.0, class_prior=None, fit_prior=True)"
       ]
      }
     ],
     "prompt_number": 161
    },
    {
     "cell_type": "markdown",
     "metadata": {},
     "source": [
      "## Evaluate"
     ]
    },
    {
     "cell_type": "code",
     "collapsed": false,
     "input": [
      "term_document_matrix_test = vectorizer.transform(msgs_test)\n",
      "term_document_matrix_test\n",
      "\n",
      "predicted_classes_test = classifier.predict(term_document_matrix_test)"
     ],
     "language": "python",
     "metadata": {},
     "outputs": [],
     "prompt_number": 162
    },
    {
     "cell_type": "code",
     "collapsed": false,
     "input": [
      "predicted_classes_train = classifier.predict(term_document_matrix_train)\n",
      "print(\"Accuracy: {:.2f}%\".format(np.mean(predicted_classes_train == classes_train) * 100))"
     ],
     "language": "python",
     "metadata": {},
     "outputs": [
      {
       "output_type": "stream",
       "stream": "stdout",
       "text": [
        "Accuracy: 89.34%\n"
       ]
      }
     ],
     "prompt_number": 163
    },
    {
     "cell_type": "code",
     "collapsed": false,
     "input": [
      "print(\"Accuracy: {:.2f}%\".format(np.mean(predicted_classes_test == classes_test) * 100))"
     ],
     "language": "python",
     "metadata": {},
     "outputs": [
      {
       "output_type": "stream",
       "stream": "stdout",
       "text": [
        "Accuracy: 70.56%\n"
       ]
      }
     ],
     "prompt_number": 129
    },
    {
     "cell_type": "code",
     "collapsed": false,
     "input": [
      "classifier.classes_  #checking the order of the classes (for the confusion matrix)"
     ],
     "language": "python",
     "metadata": {},
     "outputs": [
      {
       "metadata": {},
       "output_type": "pyout",
       "prompt_number": 123,
       "text": [
        "array(['Bruce', 'Kris'], \n",
        "      dtype='|S5')"
       ]
      }
     ],
     "prompt_number": 123
    },
    {
     "cell_type": "code",
     "collapsed": false,
     "input": [
      "print(confusion_matrix(classes_test, predicted_classes_test))  "
     ],
     "language": "python",
     "metadata": {},
     "outputs": [
      {
       "output_type": "stream",
       "stream": "stdout",
       "text": [
        "[[ 987 1139]\n",
        " [ 311 2488]]\n"
       ]
      }
     ],
     "prompt_number": 108
    },
    {
     "cell_type": "code",
     "collapsed": false,
     "input": [
      "print(classification_report(classes_test, predicted_classes_test))"
     ],
     "language": "python",
     "metadata": {},
     "outputs": [
      {
       "output_type": "stream",
       "stream": "stdout",
       "text": [
        "             precision    recall  f1-score   support\n",
        "\n",
        "      Bruce       0.76      0.46      0.58      2126\n",
        "       Kris       0.69      0.89      0.77      2799\n",
        "\n",
        "avg / total       0.72      0.71      0.69      4925\n",
        "\n"
       ]
      }
     ],
     "prompt_number": 109
    },
    {
     "cell_type": "markdown",
     "metadata": {},
     "source": [
      "## features"
     ]
    },
    {
     "cell_type": "code",
     "collapsed": false,
     "input": [
      "print(terms[-5:])\n",
      "classifier.feature_count_[:, -5:]   #classes by words"
     ],
     "language": "python",
     "metadata": {},
     "outputs": [
      {
       "output_type": "stream",
       "stream": "stdout",
       "text": [
        "[u'yum', u'zack', u'zack you', u'zito', u'zito rico']\n"
       ]
      },
      {
       "metadata": {},
       "output_type": "pyout",
       "prompt_number": 110,
       "text": [
        "array([[ 0.,  1.,  1.,  1.,  1.],\n",
        "       [ 1.,  0.,  0.,  0.,  0.]])"
       ]
      }
     ],
     "prompt_number": 110
    },
    {
     "cell_type": "code",
     "collapsed": false,
     "input": [
      "# P(feature|Bruce)\n",
      "bruce_probs=classifier.feature_log_prob_[0,:]\n",
      "\n",
      "# P(feature|Kris)\n",
      "kris_probs=classifier.feature_log_prob_[1,:]\n",
      "\n",
      "\n",
      "logodds=bruce_probs-kris_probs\n",
      "\n",
      "#kris\n",
      "print(\"\\nFeatures that are most indicative of Kris:\\n\")\n",
      "for i in np.argsort(logodds)[:10]:\n",
      "    print(terms[i])\n",
      "    \n",
      "print(\"\\n\\nFeatures that are most indicative of Bruce\\n\")\n",
      "#bruce\n",
      "for i in np.argsort(-logodds)[:10]:\n",
      "    print(terms[i])"
     ],
     "language": "python",
     "metadata": {},
     "outputs": [
      {
       "output_type": "stream",
       "stream": "stdout",
       "text": [
        "\n",
        "Features that are most indicative of Kris:\n",
        "\n",
        "stop it\n",
        "feels\n",
        "okay well\n",
        "birthday\n",
        "that enough\n",
        "every time\n",
        "feelings\n",
        "whoo\n",
        "for her\n",
        "her to\n",
        "\n",
        "\n",
        "Features that are most indicative of Bruce\n",
        "\n",
        "few pounds\n",
        "pounds\n",
        "lose few\n",
        "could lose\n",
        "kimberly\n",
        "he been\n",
        "difference\n",
        "like what\n",
        "hand hug\n",
        "mean this\n"
       ]
      }
     ],
     "prompt_number": 116
    },
    {
     "cell_type": "code",
     "collapsed": false,
     "input": [],
     "language": "python",
     "metadata": {},
     "outputs": []
    }
   ],
   "metadata": {}
  }
 ]
}